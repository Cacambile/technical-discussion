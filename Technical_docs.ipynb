{
  "nbformat": 4,
  "nbformat_minor": 0,
  "metadata": {
    "colab": {
      "provenance": [],
      "authorship_tag": "ABX9TyN+0LR/CYPImrbTAtOG8Q/2",
      "include_colab_link": true
    },
    "kernelspec": {
      "name": "python3",
      "display_name": "Python 3"
    },
    "language_info": {
      "name": "python"
    }
  },
  "cells": [
    {
      "cell_type": "markdown",
      "metadata": {
        "id": "view-in-github",
        "colab_type": "text"
      },
      "source": [
        "<a href=\"https://colab.research.google.com/github/Cacambile/technical-discussion/blob/main/Technical_docs.ipynb\" target=\"_parent\"><img src=\"https://colab.research.google.com/assets/colab-badge.svg\" alt=\"Open In Colab\"/></a>"
      ]
    },
    {
      "cell_type": "markdown",
      "source": [
        "## Ingest\n"
      ],
      "metadata": {
        "id": "jDeVz9AhUh4U"
      }
    },
    {
      "cell_type": "code",
      "execution_count": 9,
      "metadata": {
        "colab": {
          "base_uri": "https://localhost:8080/",
          "height": 36
        },
        "id": "XRJ90rcbRjtL",
        "outputId": "92dceb77-5bb6-4bb5-c93c-54aab0e5f29a"
      },
      "outputs": [
        {
          "output_type": "execute_result",
          "data": {
            "text/plain": [
              "'hi Thandeka'"
            ],
            "application/vnd.google.colaboratory.intrinsic+json": {
              "type": "string"
            }
          },
          "metadata": {},
          "execution_count": 9
        }
      ],
      "source": [
        "def hello():\n",
        "    return \"hi Thandeka\"\n",
        "hello()"
      ]
    },
    {
      "cell_type": "markdown",
      "source": [
        "## EDA\n",
        "### this is a markdown heading\n",
        "\n",
        "* one\n",
        "* two\n",
        "* three\n"
      ],
      "metadata": {
        "id": "8ybDXeA2UuA6"
      }
    },
    {
      "cell_type": "markdown",
      "source": [
        "## Modeling\n"
      ],
      "metadata": {
        "id": "gWDvTuSCVWXi"
      }
    },
    {
      "cell_type": "markdown",
      "source": [
        "## Conclusion"
      ],
      "metadata": {
        "id": "s9H5TkYGVaZS"
      }
    }
  ]
}